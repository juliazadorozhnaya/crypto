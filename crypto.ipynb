{
 "cells": [
  {
   "cell_type": "code",
   "execution_count": 1,
   "metadata": {
    "_cell_guid": "b1076dfc-b9ad-4769-8c92-a6c4dae69d19",
    "_uuid": "8f2839f25d086af736a60e9eeb907d3b93b6e0e5",
    "execution": {
     "iopub.execute_input": "2021-10-08T12:02:46.883074Z",
     "iopub.status.busy": "2021-10-08T12:02:46.881794Z",
     "iopub.status.idle": "2021-10-08T12:02:53.041907Z",
     "shell.execute_reply": "2021-10-08T12:02:53.040939Z",
     "shell.execute_reply.started": "2021-10-08T12:02:46.88292Z"
    }
   },
   "outputs": [
    {
     "name": "stdout",
     "output_type": "stream",
     "text": [
      ".\\input\\coin_Aave.csv\n",
      ".\\input\\coin_BinanceCoin.csv\n",
      ".\\input\\coin_Bitcoin.csv\n",
      ".\\input\\coin_Cardano.csv\n",
      ".\\input\\coin_ChainLink.csv\n",
      ".\\input\\coin_Cosmos.csv\n",
      ".\\input\\coin_CryptocomCoin.csv\n",
      ".\\input\\coin_Dogecoin.csv\n",
      ".\\input\\coin_EOS.csv\n",
      ".\\input\\coin_Ethereum.csv\n",
      ".\\input\\coin_Iota.csv\n",
      ".\\input\\coin_Litecoin.csv\n",
      ".\\input\\coin_Monero.csv\n",
      ".\\input\\coin_NEM.csv\n",
      ".\\input\\coin_Polkadot.csv\n",
      ".\\input\\coin_Solana.csv\n",
      ".\\input\\coin_Stellar.csv\n",
      ".\\input\\coin_Tether.csv\n",
      ".\\input\\coin_Tron.csv\n",
      ".\\input\\coin_Uniswap.csv\n",
      ".\\input\\coin_USDCoin.csv\n",
      ".\\input\\coin_WrappedBitcoin.csv\n",
      ".\\input\\coin_XRP.csv\n"
     ]
    }
   ],
   "source": [
    "import numpy as np \n",
    "import pandas as pd \n",
    "import matplotlib.pyplot as plt\n",
    "from sklearn.preprocessing import MinMaxScaler\n",
    "from sklearn.preprocessing import StandardScaler\n",
    "from sklearn.model_selection import train_test_split\n",
    "import tensorflow as tf\n",
    "from tensorflow.keras.models import Sequential\n",
    "from tensorflow.keras.layers import LSTM,Dense,Dropout,Activation\n",
    "\n",
    "from tensorflow.keras.callbacks import EarlyStopping\n",
    "from tensorflow.keras.metrics import mean_absolute_error\n",
    "import os\n",
    "\n",
    "for dirname, _, filenames in os.walk('.\\input'):\n",
    "    for filename in filenames:\n",
    "        print(os.path.join(dirname, filename))"
   ]
  },
  {
   "cell_type": "code",
   "execution_count": 2,
   "metadata": {
    "execution": {
     "iopub.execute_input": "2021-10-08T12:02:53.044581Z",
     "iopub.status.busy": "2021-10-08T12:02:53.044234Z",
     "iopub.status.idle": "2021-10-08T12:02:53.11287Z",
     "shell.execute_reply": "2021-10-08T12:02:53.111701Z",
     "shell.execute_reply.started": "2021-10-08T12:02:53.04454Z"
    },
    "scrolled": false
   },
   "outputs": [
    {
     "data": {
      "text/html": [
       "<div>\n",
       "<style scoped>\n",
       "    .dataframe tbody tr th:only-of-type {\n",
       "        vertical-align: middle;\n",
       "    }\n",
       "\n",
       "    .dataframe tbody tr th {\n",
       "        vertical-align: top;\n",
       "    }\n",
       "\n",
       "    .dataframe thead th {\n",
       "        text-align: right;\n",
       "    }\n",
       "</style>\n",
       "<table border=\"1\" class=\"dataframe\">\n",
       "  <thead>\n",
       "    <tr style=\"text-align: right;\">\n",
       "      <th></th>\n",
       "      <th>SNo</th>\n",
       "      <th>Name</th>\n",
       "      <th>Symbol</th>\n",
       "      <th>Date</th>\n",
       "      <th>High</th>\n",
       "      <th>Low</th>\n",
       "      <th>Open</th>\n",
       "      <th>Close</th>\n",
       "      <th>Volume</th>\n",
       "      <th>Marketcap</th>\n",
       "    </tr>\n",
       "  </thead>\n",
       "  <tbody>\n",
       "    <tr>\n",
       "      <th>0</th>\n",
       "      <td>1</td>\n",
       "      <td>Bitcoin</td>\n",
       "      <td>BTC</td>\n",
       "      <td>2013-04-29 23:59:59</td>\n",
       "      <td>147.488007</td>\n",
       "      <td>134.000000</td>\n",
       "      <td>134.444000</td>\n",
       "      <td>144.539993</td>\n",
       "      <td>0.0</td>\n",
       "      <td>1.603769e+09</td>\n",
       "    </tr>\n",
       "    <tr>\n",
       "      <th>1</th>\n",
       "      <td>2</td>\n",
       "      <td>Bitcoin</td>\n",
       "      <td>BTC</td>\n",
       "      <td>2013-04-30 23:59:59</td>\n",
       "      <td>146.929993</td>\n",
       "      <td>134.050003</td>\n",
       "      <td>144.000000</td>\n",
       "      <td>139.000000</td>\n",
       "      <td>0.0</td>\n",
       "      <td>1.542813e+09</td>\n",
       "    </tr>\n",
       "    <tr>\n",
       "      <th>2</th>\n",
       "      <td>3</td>\n",
       "      <td>Bitcoin</td>\n",
       "      <td>BTC</td>\n",
       "      <td>2013-05-01 23:59:59</td>\n",
       "      <td>139.889999</td>\n",
       "      <td>107.720001</td>\n",
       "      <td>139.000000</td>\n",
       "      <td>116.989998</td>\n",
       "      <td>0.0</td>\n",
       "      <td>1.298955e+09</td>\n",
       "    </tr>\n",
       "    <tr>\n",
       "      <th>3</th>\n",
       "      <td>4</td>\n",
       "      <td>Bitcoin</td>\n",
       "      <td>BTC</td>\n",
       "      <td>2013-05-02 23:59:59</td>\n",
       "      <td>125.599998</td>\n",
       "      <td>92.281898</td>\n",
       "      <td>116.379997</td>\n",
       "      <td>105.209999</td>\n",
       "      <td>0.0</td>\n",
       "      <td>1.168517e+09</td>\n",
       "    </tr>\n",
       "    <tr>\n",
       "      <th>4</th>\n",
       "      <td>5</td>\n",
       "      <td>Bitcoin</td>\n",
       "      <td>BTC</td>\n",
       "      <td>2013-05-03 23:59:59</td>\n",
       "      <td>108.127998</td>\n",
       "      <td>79.099998</td>\n",
       "      <td>106.250000</td>\n",
       "      <td>97.750000</td>\n",
       "      <td>0.0</td>\n",
       "      <td>1.085995e+09</td>\n",
       "    </tr>\n",
       "  </tbody>\n",
       "</table>\n",
       "</div>"
      ],
      "text/plain": [
       "   SNo     Name Symbol                 Date        High         Low  \\\n",
       "0    1  Bitcoin    BTC  2013-04-29 23:59:59  147.488007  134.000000   \n",
       "1    2  Bitcoin    BTC  2013-04-30 23:59:59  146.929993  134.050003   \n",
       "2    3  Bitcoin    BTC  2013-05-01 23:59:59  139.889999  107.720001   \n",
       "3    4  Bitcoin    BTC  2013-05-02 23:59:59  125.599998   92.281898   \n",
       "4    5  Bitcoin    BTC  2013-05-03 23:59:59  108.127998   79.099998   \n",
       "\n",
       "         Open       Close  Volume     Marketcap  \n",
       "0  134.444000  144.539993     0.0  1.603769e+09  \n",
       "1  144.000000  139.000000     0.0  1.542813e+09  \n",
       "2  139.000000  116.989998     0.0  1.298955e+09  \n",
       "3  116.379997  105.209999     0.0  1.168517e+09  \n",
       "4  106.250000   97.750000     0.0  1.085995e+09  "
      ]
     },
     "execution_count": 2,
     "metadata": {},
     "output_type": "execute_result"
    }
   ],
   "source": [
    "data = 'input/coin_Bitcoin.csv'\n",
    "dataset = pd.read_csv(data)\n",
    "chosen_col = 'Close'\n",
    "dataset.head()"
   ]
  },
  {
   "cell_type": "markdown",
   "metadata": {},
   "source": [
    "Выделим 80% датасета под обучение, 20% - тестовые данные"
   ]
  },
  {
   "cell_type": "code",
   "execution_count": 3,
   "metadata": {
    "execution": {
     "iopub.execute_input": "2021-10-08T12:02:53.116358Z",
     "iopub.status.busy": "2021-10-08T12:02:53.116104Z",
     "iopub.status.idle": "2021-10-08T12:02:53.12435Z",
     "shell.execute_reply": "2021-10-08T12:02:53.12323Z",
     "shell.execute_reply.started": "2021-10-08T12:02:53.116332Z"
    }
   },
   "outputs": [],
   "source": [
    "split_row = len(dataset) - int(0.2 * len(dataset))\n",
    "train_data = dataset.iloc[:split_row]\n",
    "test_data = dataset.iloc[split_row:]"
   ]
  },
  {
   "cell_type": "code",
   "execution_count": 4,
   "metadata": {
    "execution": {
     "iopub.execute_input": "2021-10-08T12:02:53.129617Z",
     "iopub.status.busy": "2021-10-08T12:02:53.129268Z",
     "iopub.status.idle": "2021-10-08T12:02:53.432604Z",
     "shell.execute_reply": "2021-10-08T12:02:53.431401Z",
     "shell.execute_reply.started": "2021-10-08T12:02:53.129546Z"
    }
   },
   "outputs": [
    {
     "data": {
      "image/png": "[encoded data removed]",
      "text/plain": [
       "<Figure size 936x504 with 1 Axes>"
      ]
     },
     "metadata": {
      "needs_background": "light"
     },
     "output_type": "display_data"
    }
   ],
   "source": [
    "fig, ax = plt.subplots(1, figsize=(13, 7))\n",
    "ax.plot(train_data[chosen_col], label='Обучение', linewidth=2)\n",
    "ax.plot(test_data[chosen_col], label='Тест', linewidth=2)\n",
    "ax.set_ylabel('Цена в долларах США', fontsize=14)\n",
    "ax.set_xlabel('Дата', fontsize=14)\n",
    "ax.set_title('', fontsize=16)\n",
    "ax.legend(loc='best', fontsize=16)\n",
    "plt.show()"
   ]
  },
  {
   "cell_type": "code",
   "execution_count": 5,
   "metadata": {
    "execution": {
     "iopub.execute_input": "2021-10-08T12:18:38.733902Z",
     "iopub.status.busy": "2021-10-08T12:18:38.733363Z",
     "iopub.status.idle": "2021-10-08T12:18:38.74027Z",
     "shell.execute_reply": "2021-10-08T12:18:38.738761Z",
     "shell.execute_reply.started": "2021-10-08T12:18:38.733871Z"
    }
   },
   "outputs": [
    {
     "name": "stdout",
     "output_type": "stream",
     "text": [
      "(2393,)\n"
     ]
    }
   ],
   "source": [
    "print(train_data[chosen_col].shape)"
   ]
  },
  {
   "cell_type": "code",
   "execution_count": 6,
   "metadata": {
    "execution": {
     "iopub.execute_input": "2021-10-08T12:02:53.434285Z",
     "iopub.status.busy": "2021-10-08T12:02:53.433949Z",
     "iopub.status.idle": "2021-10-08T12:02:53.444647Z",
     "shell.execute_reply": "2021-10-08T12:02:53.443385Z",
     "shell.execute_reply.started": "2021-10-08T12:02:53.434244Z"
    }
   },
   "outputs": [],
   "source": [
    "datacol = dataset.iloc[:, 7:8].values\n",
    "traincol = train_data.iloc[:, 7:8].values\n",
    "testcol = test_data.iloc[:, 7:8].values\n",
    "\n",
    "shaped_data = np.reshape(datacol, (-1,1))\n",
    "train_shaped = np.reshape(traincol, (-1,1))\n",
    "test_shaped = np.reshape(testcol, (-1,1))\n",
    "\n",
    "sc = MinMaxScaler(feature_range=(0,1))\n",
    "sc.fit(shaped_data)\n",
    "\n",
    "train_scaled_data = sc.transform(train_shaped)\n",
    "test_scaled_data = sc.transform(test_shaped)"
   ]
  },
  {
   "cell_type": "code",
   "execution_count": 7,
   "metadata": {
    "execution": {
     "iopub.execute_input": "2021-10-08T12:02:53.446864Z",
     "iopub.status.busy": "2021-10-08T12:02:53.446114Z",
     "iopub.status.idle": "2021-10-08T12:02:53.46063Z",
     "shell.execute_reply": "2021-10-08T12:02:53.459509Z",
     "shell.execute_reply.started": "2021-10-08T12:02:53.446823Z"
    }
   },
   "outputs": [],
   "source": [
    "X = []\n",
    "y = []\n",
    "time_steps = 50\n",
    "\n",
    "for i in range(time_steps, len(train_data)):\n",
    "    X.append(train_scaled_data[i-time_steps:i,0])\n",
    "    y.append(train_scaled_data[i, 0])\n",
    "\n",
    "X, y = np.array(X), np.array(y)\n",
    "X = np.reshape(X, (X.shape[0], X.shape[1], 1))"
   ]
  },
  {
   "cell_type": "code",
   "execution_count": 8,
   "metadata": {},
   "outputs": [],
   "source": [
    "class Custom_Loss(tf.keras.losses.Loss):\n",
    "    def __init__(self):\n",
    "        super().__init__()\n",
    "    def call(self, y_true, y_pred):\n",
    "        mm = tf.reduce_mean(y_true - y_pred)\n",
    "        if mm > 0:\n",
    "            return tf.reduce_mean(tf.square(y_true - y_pred))\n",
    "        return -mm"
   ]
  },
  {
   "cell_type": "code",
   "execution_count": 9,
   "metadata": {
    "execution": {
     "iopub.execute_input": "2021-10-08T12:02:53.463012Z",
     "iopub.status.busy": "2021-10-08T12:02:53.462514Z",
     "iopub.status.idle": "2021-10-08T12:02:53.472366Z",
     "shell.execute_reply": "2021-10-08T12:02:53.470984Z",
     "shell.execute_reply.started": "2021-10-08T12:02:53.462971Z"
    }
   },
   "outputs": [],
   "source": [
    "X_train, X_test, y_train, y_test = train_test_split(X, y, test_size=0.2)"
   ]
  },
  {
   "cell_type": "code",
   "execution_count": 10,
   "metadata": {
    "execution": {
     "iopub.execute_input": "2021-10-08T12:02:53.475635Z",
     "iopub.status.busy": "2021-10-08T12:02:53.474995Z",
     "iopub.status.idle": "2021-10-08T12:02:56.478001Z",
     "shell.execute_reply": "2021-10-08T12:02:56.477012Z",
     "shell.execute_reply.started": "2021-10-08T12:02:53.475592Z"
    }
   },
   "outputs": [],
   "source": [
    "model = Sequential()\n",
    "model.add(LSTM(units=100, input_shape=(X_train.shape[1], X_train.shape[2])))\n",
    "model.add(Dropout(0.2))\n",
    "model.add(Dense(1))\n",
    "model.add(Activation('linear'))\n",
    "model.compile(optimizer='adam', loss='mse') #loss=Custom_Loss()"
   ]
  },
  {
   "cell_type": "code",
   "execution_count": 11,
   "metadata": {
    "execution": {
     "iopub.execute_input": "2021-10-08T12:02:56.480112Z",
     "iopub.status.busy": "2021-10-08T12:02:56.479779Z",
     "iopub.status.idle": "2021-10-08T12:03:16.872873Z",
     "shell.execute_reply": "2021-10-08T12:03:16.871683Z",
     "shell.execute_reply.started": "2021-10-08T12:02:56.480043Z"
    },
    "scrolled": true
   },
   "outputs": [
    {
     "name": "stdout",
     "output_type": "stream",
     "text": [
      "Epoch 1/100\n",
      "59/59 [==============================] - 7s 59ms/step - loss: 4.7979e-04 - val_loss: 9.3843e-05\n",
      "Epoch 2/100\n",
      "59/59 [==============================] - 3s 46ms/step - loss: 1.0208e-04 - val_loss: 6.0964e-05\n",
      "Epoch 3/100\n",
      "59/59 [==============================] - 3s 46ms/step - loss: 9.8391e-05 - val_loss: 5.2524e-05\n",
      "Epoch 4/100\n",
      "59/59 [==============================] - 3s 46ms/step - loss: 7.8859e-05 - val_loss: 7.8529e-05\n",
      "Epoch 5/100\n",
      "59/59 [==============================] - 3s 46ms/step - loss: 7.4461e-05 - val_loss: 1.1660e-04\n",
      "Epoch 6/100\n",
      "59/59 [==============================] - 3s 46ms/step - loss: 7.8180e-05 - val_loss: 6.3435e-05\n",
      "Epoch 7/100\n",
      "59/59 [==============================] - 3s 48ms/step - loss: 7.0103e-05 - val_loss: 4.5134e-05\n",
      "Epoch 8/100\n",
      "59/59 [==============================] - 3s 48ms/step - loss: 6.4241e-05 - val_loss: 4.8032e-05\n",
      "Epoch 9/100\n",
      "59/59 [==============================] - 3s 48ms/step - loss: 6.1459e-05 - val_loss: 5.5603e-05\n",
      "Epoch 10/100\n",
      "59/59 [==============================] - 3s 48ms/step - loss: 6.7171e-05 - val_loss: 4.3993e-05\n",
      "Epoch 11/100\n",
      "59/59 [==============================] - 3s 47ms/step - loss: 5.2983e-05 - val_loss: 4.2986e-05\n",
      "Epoch 12/100\n",
      "59/59 [==============================] - 3s 50ms/step - loss: 5.2495e-05 - val_loss: 5.2340e-05\n",
      "Epoch 13/100\n",
      "59/59 [==============================] - 3s 47ms/step - loss: 5.1459e-05 - val_loss: 4.4099e-05\n",
      "Epoch 14/100\n",
      "59/59 [==============================] - 3s 50ms/step - loss: 5.3735e-05 - val_loss: 4.7310e-05\n",
      "Epoch 15/100\n",
      "59/59 [==============================] - 3s 51ms/step - loss: 5.7578e-05 - val_loss: 4.8383e-05\n",
      "Epoch 16/100\n",
      "59/59 [==============================] - 3s 46ms/step - loss: 5.3741e-05 - val_loss: 4.6077e-05\n",
      "Epoch 17/100\n",
      "59/59 [==============================] - 3s 46ms/step - loss: 4.2603e-05 - val_loss: 3.8763e-05\n",
      "Epoch 18/100\n",
      "59/59 [==============================] - 3s 47ms/step - loss: 4.7421e-05 - val_loss: 5.9754e-05\n",
      "Epoch 19/100\n",
      "59/59 [==============================] - 3s 48ms/step - loss: 4.7615e-05 - val_loss: 3.8937e-05\n",
      "Epoch 20/100\n",
      "59/59 [==============================] - 3s 46ms/step - loss: 4.7408e-05 - val_loss: 3.5813e-05\n",
      "Epoch 21/100\n",
      "59/59 [==============================] - 3s 47ms/step - loss: 4.7015e-05 - val_loss: 3.9506e-05\n",
      "Epoch 22/100\n",
      "59/59 [==============================] - 3s 46ms/step - loss: 5.4493e-05 - val_loss: 4.0591e-05\n",
      "Epoch 23/100\n",
      "59/59 [==============================] - 3s 49ms/step - loss: 4.0691e-05 - val_loss: 3.7666e-05\n",
      "Epoch 24/100\n",
      "59/59 [==============================] - 3s 55ms/step - loss: 4.1253e-05 - val_loss: 3.8143e-05\n",
      "Epoch 25/100\n",
      "59/59 [==============================] - 3s 55ms/step - loss: 5.5254e-05 - val_loss: 4.9297e-05\n",
      "Epoch 26/100\n",
      "59/59 [==============================] - 3s 51ms/step - loss: 3.7347e-05 - val_loss: 3.4001e-05\n",
      "Epoch 27/100\n",
      "59/59 [==============================] - 3s 49ms/step - loss: 4.0484e-05 - val_loss: 3.9488e-05\n",
      "Epoch 28/100\n",
      "59/59 [==============================] - 3s 48ms/step - loss: 4.2246e-05 - val_loss: 3.1541e-05\n",
      "Epoch 29/100\n",
      "59/59 [==============================] - 3s 47ms/step - loss: 4.9827e-05 - val_loss: 4.0363e-05\n",
      "Epoch 30/100\n",
      "59/59 [==============================] - 3s 49ms/step - loss: 4.5752e-05 - val_loss: 4.7620e-05\n",
      "Epoch 31/100\n",
      "59/59 [==============================] - 3s 47ms/step - loss: 4.0933e-05 - val_loss: 2.8818e-05\n",
      "Epoch 32/100\n",
      "59/59 [==============================] - 3s 46ms/step - loss: 3.9444e-05 - val_loss: 3.1871e-05\n",
      "Epoch 33/100\n",
      "59/59 [==============================] - 3s 47ms/step - loss: 3.7678e-05 - val_loss: 3.1108e-05\n",
      "Epoch 34/100\n",
      "59/59 [==============================] - 3s 46ms/step - loss: 3.8876e-05 - val_loss: 3.5919e-05\n",
      "Epoch 35/100\n",
      "59/59 [==============================] - 3s 47ms/step - loss: 4.1795e-05 - val_loss: 2.9984e-05\n",
      "Epoch 36/100\n",
      "59/59 [==============================] - 3s 48ms/step - loss: 3.7559e-05 - val_loss: 2.8278e-05\n"
     ]
    }
   ],
   "source": [
    "callback = EarlyStopping(monitor='loss', patience=10, restore_best_weights=True)\n",
    "history = model.fit(X_train, y_train, validation_data=(X_test, y_test), epochs=100, batch_size=32, verbose=1, callbacks=[callback], shuffle=True)"
   ]
  },
  {
   "cell_type": "code",
   "execution_count": 12,
   "metadata": {
    "execution": {
     "iopub.execute_input": "2021-10-08T12:15:38.590008Z",
     "iopub.status.busy": "2021-10-08T12:15:38.589696Z",
     "iopub.status.idle": "2021-10-08T12:15:38.670298Z",
     "shell.execute_reply": "2021-10-08T12:15:38.668864Z",
     "shell.execute_reply.started": "2021-10-08T12:15:38.589967Z"
    }
   },
   "outputs": [
    {
     "name": "stdout",
     "output_type": "stream",
     "text": [
      "MSE: 0.0007688672\n"
     ]
    }
   ],
   "source": [
    "from tensorflow.keras.losses import MSE\n",
    "X_testing = []\n",
    "y_testing = []\n",
    "\n",
    "for i in range(time_steps, len(test_data)):\n",
    "    X_testing.append(test_scaled_data[i-time_steps:i,0])\n",
    "    y_testing.append(test_scaled_data[i, 0])\n",
    "\n",
    "X_testing, y_testing = np.array(X_testing), np.array(y_testing)\n",
    "X_testing = np.reshape(X_testing, (X_testing.shape[0], X_testing.shape[1], 1))\n",
    "\n",
    "predicted_price = model.predict(X_testing)\n",
    "inv_price = sc.inverse_transform(predicted_price)\n",
    "real_price = np.reshape(y_testing, (-1,1))\n",
    "print('MSE:', np.mean(MSE(real_price, predicted_price)))\n",
    "real_price = sc.inverse_transform(real_price)"
   ]
  },
  {
   "cell_type": "code",
   "execution_count": 13,
   "metadata": {
    "execution": {
     "iopub.execute_input": "2021-10-08T12:03:17.417507Z",
     "iopub.status.busy": "2021-10-08T12:03:17.417154Z",
     "iopub.status.idle": "2021-10-08T12:03:17.756937Z",
     "shell.execute_reply": "2021-10-08T12:03:17.756029Z",
     "shell.execute_reply.started": "2021-10-08T12:03:17.417464Z"
    }
   },
   "outputs": [
    {
     "data": {
      "image/png": "[encoded data removed]",
      "text/plain": [
       "<Figure size 936x504 with 1 Axes>"
      ]
     },
     "metadata": {
      "needs_background": "light"
     },
     "output_type": "display_data"
    }
   ],
   "source": [
    "fig, ax = plt.subplots(1, figsize=(13, 7))\n",
    "ax.plot(pd.to_datetime(test_data['Date'][50:]), real_price, label='Реальные данные', linewidth=2)\n",
    "ax.plot(pd.to_datetime(test_data['Date'][50:]), inv_price, label='Предсказанные данные', linewidth=2)\n",
    "ax.set_ylabel('Цена в долларах США', fontsize=14)\n",
    "ax.set_xlabel('Дата', fontsize=14)\n",
    "ax.set_title('Курс Bitcoin', fontsize=16)\n",
    "ax.legend(loc='best', fontsize=16)\n",
    "ax.grid()\n",
    "plt.show()"
   ]
  }
 ],
 "metadata": {
  "kernelspec": {
   "display_name": "Python 3 (ipykernel)",
   "language": "python",
   "name": "python3"
  },
  "language_info": {
   "codemirror_mode": {
    "name": "ipython",
    "version": 3
   },
   "file_extension": ".py",
   "mimetype": "text/x-python",
   "name": "python",
   "nbconvert_exporter": "python",
   "pygments_lexer": "ipython3",
   "version": "3.9.7"
  }
 },
 "nbformat": 4,
 "nbformat_minor": 4
}
